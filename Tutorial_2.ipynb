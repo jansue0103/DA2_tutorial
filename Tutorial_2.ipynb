{
 "cells": [
  {
   "cell_type": "code",
   "execution_count": 30,
   "id": "initial_id",
   "metadata": {
    "collapsed": true,
    "ExecuteTime": {
     "end_time": "2024-04-29T17:14:26.070990Z",
     "start_time": "2024-04-29T17:14:26.066282Z"
    }
   },
   "outputs": [],
   "source": [
    "import pandas as pd\n",
    "import numpy as np"
   ]
  },
  {
   "cell_type": "code",
   "outputs": [],
   "source": [
    "data_raw = pd.read_csv(\"fish.csv\")\n",
    "data = np.array(data_raw)\n",
    "data = np.array(data[:, 1:], dtype=np.float64) # Exclude species dimension\n",
    "np.random.shuffle(data)\n",
    "\n",
    "training_data = data[:int(len(data) * 0.8)]\n",
    "test_data = data[-int(len(data) * 0.2):]\n",
    "\n",
    "X,y = training_data[:, 1:], training_data[:,0]\n",
    "X_test, y_test = test_data[:, 1:], test_data[:,0]"
   ],
   "metadata": {
    "collapsed": false,
    "ExecuteTime": {
     "end_time": "2024-04-29T17:24:56.505828Z",
     "start_time": "2024-04-29T17:24:56.499394Z"
    }
   },
   "id": "6b7d822867843b9d",
   "execution_count": 85
  },
  {
   "cell_type": "code",
   "outputs": [],
   "source": [
    "class LinearRegression():\n",
    "    \"\"\"\n",
    "    Linear regression implementation.\n",
    "    \"\"\"\n",
    "\n",
    "    def __init__(self):\n",
    "        \n",
    "        pass\n",
    "            \n",
    "    def fit(self, X, y):\n",
    "        \"\"\"\n",
    "        Fits the linear regression model.\n",
    "\n",
    "        Parameters\n",
    "        ----------\n",
    "        X : Array of shape [n_samples, n_features]\n",
    "        y : Array of shape [n_samples, 1]\n",
    "        \"\"\"        \n",
    "\n",
    "        # make sure that we have multidimensional numpy arrays\n",
    "        X = np.array(X).reshape((X.shape[0], -1))\n",
    "        # IMPORTANT: Make sure that we have a column vector! \n",
    "        y = np.array(y).reshape((len(y), 1))\n",
    "        \n",
    "        # prepend a column of ones\n",
    "        ones = np.ones((X.shape[0], 1))\n",
    "        # augmented data matrix!\n",
    "        X = np.concatenate((ones, X), axis=1)\n",
    "        X.astype(np.float64)\n",
    "        y.astype(np.float64)\n",
    "        # compute weights\n",
    "        XTX = np.dot(X.T, X)\n",
    "        XTy = np.dot(X.T, y)\n",
    "\n",
    "        # Option 1\n",
    "        # matrix multiplication in numpy: numpy.dot(X.T, X) \n",
    "        XTXinv = np.linalg.inv(XTX)\n",
    "        self._w = np.dot(XTXinv, XTy)\n",
    "        \n",
    "        # Option 2\n",
    "        #self._w = np.linalg.solve(XTX, XTy)\n",
    "                \n",
    "        # Option 3\n",
    "        #XTXpinv = numpy.linalg.pinv(XTX)\n",
    "        #self._w = numpy.dot(XTXpinv, XTy)\n",
    "        \n",
    "        # Option 4 \n",
    "        # ...\n",
    "                \n",
    "    def predict(self, X):\n",
    "        \"\"\"\n",
    "        Computes predictions for a new set of points.\n",
    "\n",
    "        Parameters\n",
    "        ----------\n",
    "        X : Array of shape [n_samples, n_features]\n",
    "\n",
    "        Returns\n",
    "        -------\n",
    "        predictions : Array of shape [n_samples, 1]\n",
    "        \"\"\"                     \n",
    "\n",
    "        # make sure that we have multidimensional numpy arrays\n",
    "        X = np.array(X).reshape((X.shape[0], -1))\n",
    "\n",
    "        # prepend a column of ones\n",
    "        ones = np.ones((X.shape[0], 1))\n",
    "        X = np.concatenate((ones, X), axis=1)           \n",
    "\n",
    "        # compute predictions\n",
    "        predictions = np.dot(X, self._w)\n",
    "\n",
    "        return predictions"
   ],
   "metadata": {
    "collapsed": false,
    "ExecuteTime": {
     "end_time": "2024-04-29T17:24:56.788659Z",
     "start_time": "2024-04-29T17:24:56.784376Z"
    }
   },
   "id": "abf8791ac189afa7",
   "execution_count": 86
  },
  {
   "cell_type": "code",
   "outputs": [],
   "source": [
    "model = LinearRegression()\n",
    "model.fit(X, y)"
   ],
   "metadata": {
    "collapsed": false,
    "ExecuteTime": {
     "end_time": "2024-04-29T17:24:57.532160Z",
     "start_time": "2024-04-29T17:24:57.527680Z"
    }
   },
   "id": "6ee55d0f89bdfbd6",
   "execution_count": 87
  },
  {
   "cell_type": "code",
   "outputs": [
    {
     "data": {
      "text/plain": "array([489509.40310087])"
     },
     "execution_count": 88,
     "metadata": {},
     "output_type": "execute_result"
    }
   ],
   "source": [
    "predictions_train = model.predict(X)\n",
    "predictions_test = model.predict(X_test)"
   ],
   "metadata": {
    "collapsed": false,
    "ExecuteTime": {
     "end_time": "2024-04-29T17:24:58.291255Z",
     "start_time": "2024-04-29T17:24:58.286526Z"
    }
   },
   "id": "d4a0104066bcd546",
   "execution_count": 88
  },
  {
   "cell_type": "code",
   "outputs": [
    {
     "data": {
      "text/plain": "15790.625906479747"
     },
     "execution_count": 102,
     "metadata": {},
     "output_type": "execute_result"
    }
   ],
   "source": [
    "from sklearn.metrics import mean_squared_error\n",
    "MSE = mean_squared_error(y_test, predictions_test)\n",
    "MSE"
   ],
   "metadata": {
    "collapsed": false,
    "ExecuteTime": {
     "end_time": "2024-04-29T17:29:05.445978Z",
     "start_time": "2024-04-29T17:29:05.441809Z"
    }
   },
   "id": "2f3e9fce1d57d41a",
   "execution_count": 102
  },
  {
   "cell_type": "code",
   "outputs": [],
   "source": [
    "data_raw2 = data_raw\n",
    "data2 = np.array(data_raw2)\n",
    "mapping = {'Bream' : 0, 'Roach' : 1, 'Whitefish': 2, 'Parkki': 3, 'Perch': 4, 'Pike': 5, 'Smelt': 6}\n",
    "for row in data2:\n",
    "    row[0] = mapping[row[0]]\n",
    "data2 = np.array(data2, dtype=np.float64)\n",
    "np.random.shuffle(data2)"
   ],
   "metadata": {
    "collapsed": false,
    "ExecuteTime": {
     "end_time": "2024-04-29T17:31:56.731146Z",
     "start_time": "2024-04-29T17:31:56.726838Z"
    }
   },
   "id": "71bffb31d25f7dd1",
   "execution_count": 140
  },
  {
   "cell_type": "code",
   "outputs": [],
   "source": [
    "training_data2 = data2[:int(len(data2) * 0.8)]\n",
    "test_data2 = data2[-int(len(data2) * 0.2):]\n",
    "\n",
    "X2,y2 = training_data2[:,0:], training_data2[:, 2]\n",
    "X_test2, y_test2 = test_data2[:, 0:], test_data2[:,2]"
   ],
   "metadata": {
    "collapsed": false,
    "ExecuteTime": {
     "end_time": "2024-04-29T17:31:56.978285Z",
     "start_time": "2024-04-29T17:31:56.974495Z"
    }
   },
   "id": "858ad2b5c996b447",
   "execution_count": 141
  },
  {
   "cell_type": "code",
   "outputs": [],
   "source": [
    "model = LinearRegression()\n",
    "model.fit(X2, y2)"
   ],
   "metadata": {
    "collapsed": false,
    "ExecuteTime": {
     "end_time": "2024-04-29T17:31:57.243192Z",
     "start_time": "2024-04-29T17:31:57.238755Z"
    }
   },
   "id": "c373519a2da834af",
   "execution_count": 142
  },
  {
   "cell_type": "code",
   "outputs": [
    {
     "data": {
      "text/plain": "2.593282478057522e-20"
     },
     "execution_count": 143,
     "metadata": {},
     "output_type": "execute_result"
    }
   ],
   "source": [
    "predictions_train2 = model.predict(X2)\n",
    "predictions_test2 = model.predict(X_test2)\n",
    "MSE2 = mean_squared_error(y_test2, predictions_test2)\n",
    "MSE2"
   ],
   "metadata": {
    "collapsed": false,
    "ExecuteTime": {
     "end_time": "2024-04-29T17:31:57.779262Z",
     "start_time": "2024-04-29T17:31:57.773925Z"
    }
   },
   "id": "5df6379096d6952a",
   "execution_count": 143
  }
 ],
 "metadata": {
  "kernelspec": {
   "display_name": "Python 3",
   "language": "python",
   "name": "python3"
  },
  "language_info": {
   "codemirror_mode": {
    "name": "ipython",
    "version": 2
   },
   "file_extension": ".py",
   "mimetype": "text/x-python",
   "name": "python",
   "nbconvert_exporter": "python",
   "pygments_lexer": "ipython2",
   "version": "2.7.6"
  }
 },
 "nbformat": 4,
 "nbformat_minor": 5
}
